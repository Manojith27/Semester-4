{
 "cells": [
  {
   "cell_type": "markdown",
   "id": "b4302379",
   "metadata": {},
   "source": [
    "# K-MEANS CLUSTERING"
   ]
  },
  {
   "cell_type": "code",
   "execution_count": 1,
   "id": "d4a5810b",
   "metadata": {},
   "outputs": [],
   "source": [
    "#IMPORTING LIBRARY\n",
    "import cv2\n",
    "import numpy as np"
   ]
  },
  {
   "cell_type": "code",
   "execution_count": 2,
   "id": "505dda34",
   "metadata": {},
   "outputs": [
    {
     "data": {
      "text/plain": [
       "array([[[31, 31, 31],\n",
       "        [22, 22, 22],\n",
       "        [16, 16, 16],\n",
       "        ...,\n",
       "        [14, 14, 14],\n",
       "        [20, 20, 20],\n",
       "        [33, 33, 33]],\n",
       "\n",
       "       [[16, 16, 16],\n",
       "        [ 7,  7,  7],\n",
       "        [ 1,  1,  1],\n",
       "        ...,\n",
       "        [ 0,  0,  0],\n",
       "        [ 6,  6,  6],\n",
       "        [19, 19, 19]],\n",
       "\n",
       "       [[10, 10, 10],\n",
       "        [ 1,  1,  1],\n",
       "        [ 0,  0,  0],\n",
       "        ...,\n",
       "        [ 0,  0,  0],\n",
       "        [ 0,  0,  0],\n",
       "        [12, 12, 12]],\n",
       "\n",
       "       ...,\n",
       "\n",
       "       [[20, 20, 20],\n",
       "        [ 0,  0,  0],\n",
       "        [ 1,  1,  1],\n",
       "        ...,\n",
       "        [ 1,  1,  1],\n",
       "        [ 0,  0,  0],\n",
       "        [16, 16, 16]],\n",
       "\n",
       "       [[20, 20, 20],\n",
       "        [ 0,  0,  0],\n",
       "        [ 1,  1,  1],\n",
       "        ...,\n",
       "        [ 1,  1,  1],\n",
       "        [ 0,  0,  0],\n",
       "        [16, 16, 16]],\n",
       "\n",
       "       [[20, 20, 20],\n",
       "        [ 0,  0,  0],\n",
       "        [ 1,  1,  1],\n",
       "        ...,\n",
       "        [ 1,  1,  1],\n",
       "        [ 0,  0,  0],\n",
       "        [16, 16, 16]]], dtype=uint8)"
      ]
     },
     "execution_count": 2,
     "metadata": {},
     "output_type": "execute_result"
    }
   ],
   "source": [
    "#READING IMAGE\n",
    "img=cv2.imread(\"C:/Users/SN149/Desktop/messi.webp\")\n",
    "img"
   ]
  },
  {
   "cell_type": "code",
   "execution_count": 3,
   "id": "82f587f3",
   "metadata": {},
   "outputs": [],
   "source": [
    "#RGB CONVERSION\n",
    "imgrgb=cv2.cvtColor(img,cv2.COLOR_BGR2RGB)"
   ]
  },
  {
   "cell_type": "code",
   "execution_count": 4,
   "id": "9fcc7e8d",
   "metadata": {},
   "outputs": [
    {
     "data": {
      "text/plain": [
       "array([[31, 31, 31],\n",
       "       [22, 22, 22],\n",
       "       [16, 16, 16],\n",
       "       ...,\n",
       "       [ 1,  1,  1],\n",
       "       [ 0,  0,  0],\n",
       "       [16, 16, 16]], dtype=uint8)"
      ]
     },
     "execution_count": 4,
     "metadata": {},
     "output_type": "execute_result"
    }
   ],
   "source": [
    "#RESHAPE\n",
    "vec=imgrgb.reshape((-1,3))\n",
    "vec"
   ]
  },
  {
   "cell_type": "code",
   "execution_count": 5,
   "id": "7bceecea",
   "metadata": {},
   "outputs": [
    {
     "data": {
      "text/plain": [
       "array([[31., 31., 31.],\n",
       "       [22., 22., 22.],\n",
       "       [16., 16., 16.],\n",
       "       ...,\n",
       "       [ 1.,  1.,  1.],\n",
       "       [ 0.,  0.,  0.],\n",
       "       [16., 16., 16.]], dtype=float32)"
      ]
     },
     "execution_count": 5,
     "metadata": {},
     "output_type": "execute_result"
    }
   ],
   "source": [
    "#fLOAT CONVERSION\n",
    "vec=np.float32(vec)\n",
    "vec"
   ]
  },
  {
   "cell_type": "code",
   "execution_count": 6,
   "id": "e82577f7",
   "metadata": {},
   "outputs": [],
   "source": [
    "#ITERATION TERMINATION CRITERIA\n",
    "criteria=(cv2.TERM_CRITERIA_EPS+cv2.TERM_CRITERIA_MAX_ITER,100,1)"
   ]
  },
  {
   "cell_type": "code",
   "execution_count": 7,
   "id": "f9eb5be9",
   "metadata": {},
   "outputs": [],
   "source": [
    "#Cluster Condition\n",
    "k=3\n",
    "attempts=100"
   ]
  },
  {
   "cell_type": "code",
   "execution_count": 8,
   "id": "fa51b03c",
   "metadata": {},
   "outputs": [
    {
     "data": {
      "text/plain": [
       "array([[  2.867839 ,   2.7539954,   4.2110386],\n",
       "       [184.14891  , 173.39964  , 152.50197  ],\n",
       "       [ 83.55724  ,  54.18726  ,  62.89509  ]], dtype=float32)"
      ]
     },
     "execution_count": 8,
     "metadata": {},
     "output_type": "execute_result"
    }
   ],
   "source": [
    "#K-Means Clustering\n",
    "compactness,label,center=cv2.kmeans(vec,k,None,criteria,attempts,cv2.KMEANS_PP_CENTERS)\n",
    "center\n"
   ]
  },
  {
   "cell_type": "code",
   "execution_count": 9,
   "id": "29022fa7",
   "metadata": {},
   "outputs": [
    {
     "data": {
      "text/plain": [
       "array([[  2,   2,   4],\n",
       "       [184, 173, 152],\n",
       "       [ 83,  54,  62]], dtype=uint8)"
      ]
     },
     "execution_count": 9,
     "metadata": {},
     "output_type": "execute_result"
    }
   ],
   "source": [
    "#Uint Conversion\n",
    "center=np.uint8(center)\n",
    "center"
   ]
  },
  {
   "cell_type": "code",
   "execution_count": 10,
   "id": "6d68cb35",
   "metadata": {},
   "outputs": [
    {
     "data": {
      "text/plain": [
       "array([[[2, 2, 4],\n",
       "        [2, 2, 4],\n",
       "        [2, 2, 4],\n",
       "        ...,\n",
       "        [2, 2, 4],\n",
       "        [2, 2, 4],\n",
       "        [2, 2, 4]],\n",
       "\n",
       "       [[2, 2, 4],\n",
       "        [2, 2, 4],\n",
       "        [2, 2, 4],\n",
       "        ...,\n",
       "        [2, 2, 4],\n",
       "        [2, 2, 4],\n",
       "        [2, 2, 4]],\n",
       "\n",
       "       [[2, 2, 4],\n",
       "        [2, 2, 4],\n",
       "        [2, 2, 4],\n",
       "        ...,\n",
       "        [2, 2, 4],\n",
       "        [2, 2, 4],\n",
       "        [2, 2, 4]],\n",
       "\n",
       "       ...,\n",
       "\n",
       "       [[2, 2, 4],\n",
       "        [2, 2, 4],\n",
       "        [2, 2, 4],\n",
       "        ...,\n",
       "        [2, 2, 4],\n",
       "        [2, 2, 4],\n",
       "        [2, 2, 4]],\n",
       "\n",
       "       [[2, 2, 4],\n",
       "        [2, 2, 4],\n",
       "        [2, 2, 4],\n",
       "        ...,\n",
       "        [2, 2, 4],\n",
       "        [2, 2, 4],\n",
       "        [2, 2, 4]],\n",
       "\n",
       "       [[2, 2, 4],\n",
       "        [2, 2, 4],\n",
       "        [2, 2, 4],\n",
       "        ...,\n",
       "        [2, 2, 4],\n",
       "        [2, 2, 4],\n",
       "        [2, 2, 4]]], dtype=uint8)"
      ]
     },
     "execution_count": 10,
     "metadata": {},
     "output_type": "execute_result"
    }
   ],
   "source": [
    "#flattening and Reshape\n",
    "res=center[label.flatten()]\n",
    "res_img=res.reshape((imgrgb.shape))\n",
    "res_img"
   ]
  },
  {
   "cell_type": "code",
   "execution_count": null,
   "id": "a8851225",
   "metadata": {},
   "outputs": [],
   "source": [
    "#Original image & Cluster image\n",
    "cv2.imshow('Original',img)\n",
    "cv2.imshow('Segmented',res_img)\n",
    "\n",
    "cv2.waitKey(0)\n",
    "cv2.destroyAllWindows()"
   ]
  },
  {
   "cell_type": "markdown",
   "id": "d7e3680b",
   "metadata": {},
   "source": [
    "# MEAN"
   ]
  },
  {
   "cell_type": "code",
   "execution_count": null,
   "id": "ef096ca6",
   "metadata": {},
   "outputs": [],
   "source": [
    "#Apply mean shift segmentation\n",
    "segmented_image=cv2.pyrMeanShiftFiltering(image,40,40)\n",
    "#Display the segmented image\n",
    "cv2.imshow('original_image',image)\n",
    "cv2.imshow('segmented image',segmented_image)\n",
    "cv2.waitKey(0)"
   ]
  },
  {
   "cell_type": "code",
   "execution_count": null,
   "id": "14d112da",
   "metadata": {},
   "outputs": [],
   "source": []
  }
 ],
 "metadata": {
  "kernelspec": {
   "display_name": "Python 3 (ipykernel)",
   "language": "python",
   "name": "python3"
  },
  "language_info": {
   "codemirror_mode": {
    "name": "ipython",
    "version": 3
   },
   "file_extension": ".py",
   "mimetype": "text/x-python",
   "name": "python",
   "nbconvert_exporter": "python",
   "pygments_lexer": "ipython3",
   "version": "3.9.13"
  }
 },
 "nbformat": 4,
 "nbformat_minor": 5
}
