{
 "cells": [
  {
   "cell_type": "markdown",
   "id": "fba9b979",
   "metadata": {},
   "source": [
    "# K-MEANS CLUSTERING"
   ]
  },
  {
   "cell_type": "code",
   "execution_count": 10,
   "id": "596b4b82",
   "metadata": {},
   "outputs": [],
   "source": [
    "#IMPORTING LIBRARY\n",
    "import cv2\n",
    "import numpy as np"
   ]
  },
  {
   "cell_type": "code",
   "execution_count": 11,
   "id": "b8c47838",
   "metadata": {},
   "outputs": [
    {
     "data": {
      "text/plain": [
       "array([[[31, 31, 31],\n",
       "        [22, 22, 22],\n",
       "        [16, 16, 16],\n",
       "        ...,\n",
       "        [14, 14, 14],\n",
       "        [20, 20, 20],\n",
       "        [33, 33, 33]],\n",
       "\n",
       "       [[16, 16, 16],\n",
       "        [ 7,  7,  7],\n",
       "        [ 1,  1,  1],\n",
       "        ...,\n",
       "        [ 0,  0,  0],\n",
       "        [ 6,  6,  6],\n",
       "        [19, 19, 19]],\n",
       "\n",
       "       [[10, 10, 10],\n",
       "        [ 1,  1,  1],\n",
       "        [ 0,  0,  0],\n",
       "        ...,\n",
       "        [ 0,  0,  0],\n",
       "        [ 0,  0,  0],\n",
       "        [12, 12, 12]],\n",
       "\n",
       "       ...,\n",
       "\n",
       "       [[20, 20, 20],\n",
       "        [ 0,  0,  0],\n",
       "        [ 1,  1,  1],\n",
       "        ...,\n",
       "        [ 1,  1,  1],\n",
       "        [ 0,  0,  0],\n",
       "        [16, 16, 16]],\n",
       "\n",
       "       [[20, 20, 20],\n",
       "        [ 0,  0,  0],\n",
       "        [ 1,  1,  1],\n",
       "        ...,\n",
       "        [ 1,  1,  1],\n",
       "        [ 0,  0,  0],\n",
       "        [16, 16, 16]],\n",
       "\n",
       "       [[20, 20, 20],\n",
       "        [ 0,  0,  0],\n",
       "        [ 1,  1,  1],\n",
       "        ...,\n",
       "        [ 1,  1,  1],\n",
       "        [ 0,  0,  0],\n",
       "        [16, 16, 16]]], dtype=uint8)"
      ]
     },
     "execution_count": 11,
     "metadata": {},
     "output_type": "execute_result"
    }
   ],
   "source": [
    "#READING IMAGE\n",
    "img=cv2.imread(\"C:/Users/SN149/Desktop/messi.webp\")\n",
    "img"
   ]
  },
  {
   "cell_type": "code",
   "execution_count": 12,
   "id": "bf53db64",
   "metadata": {},
   "outputs": [],
   "source": [
    "#RGB CONVERSION\n",
    "imgrgb=cv2.cvtColor(img,cv2.COLOR_BGR2RGB)"
   ]
  },
  {
   "cell_type": "code",
   "execution_count": 13,
   "id": "cc198a11",
   "metadata": {},
   "outputs": [
    {
     "data": {
      "text/plain": [
       "array([[31, 31, 31],\n",
       "       [22, 22, 22],\n",
       "       [16, 16, 16],\n",
       "       ...,\n",
       "       [ 1,  1,  1],\n",
       "       [ 0,  0,  0],\n",
       "       [16, 16, 16]], dtype=uint8)"
      ]
     },
     "execution_count": 13,
     "metadata": {},
     "output_type": "execute_result"
    }
   ],
   "source": [
    "#RESHAPE\n",
    "vec=imgrgb.reshape((-1,3))\n",
    "vec"
   ]
  },
  {
   "cell_type": "code",
   "execution_count": 14,
   "id": "933a1141",
   "metadata": {},
   "outputs": [
    {
     "data": {
      "text/plain": [
       "array([[31., 31., 31.],\n",
       "       [22., 22., 22.],\n",
       "       [16., 16., 16.],\n",
       "       ...,\n",
       "       [ 1.,  1.,  1.],\n",
       "       [ 0.,  0.,  0.],\n",
       "       [16., 16., 16.]], dtype=float32)"
      ]
     },
     "execution_count": 14,
     "metadata": {},
     "output_type": "execute_result"
    }
   ],
   "source": [
    "#fLOAT CONVERSION\n",
    "vec=np.float32(vec)\n",
    "vec"
   ]
  },
  {
   "cell_type": "code",
   "execution_count": 15,
   "id": "dd308a9a",
   "metadata": {},
   "outputs": [],
   "source": [
    "#ITERATION TERMINATION CRITERIA\n",
    "criteria=(cv2.TERM_CRITERIA_EPS+cv2.TERM_CRITERIA_MAX_ITER,100,1)"
   ]
  },
  {
   "cell_type": "code",
   "execution_count": 16,
   "id": "3dcfe151",
   "metadata": {},
   "outputs": [],
   "source": [
    "#Cluster Condition\n",
    "k=3\n",
    "attempts=100"
   ]
  },
  {
   "cell_type": "code",
   "execution_count": 17,
   "id": "1a52b2e6",
   "metadata": {},
   "outputs": [
    {
     "data": {
      "text/plain": [
       "array([[ 83.518524 ,  54.181255 ,  62.893818 ],\n",
       "       [  2.8678825,   2.7533762,   4.209498 ],\n",
       "       [184.17123  , 173.30981  , 152.43759  ]], dtype=float32)"
      ]
     },
     "execution_count": 17,
     "metadata": {},
     "output_type": "execute_result"
    }
   ],
   "source": [
    "#K-Means Clustering\n",
    "compactness,label,center=cv2.kmeans(vec,k,None,criteria,attempts,cv2.KMEANS_PP_CENTERS)\n",
    "center\n"
   ]
  },
  {
   "cell_type": "code",
   "execution_count": 19,
   "id": "efb48451",
   "metadata": {},
   "outputs": [
    {
     "data": {
      "text/plain": [
       "array([[ 83,  54,  62],\n",
       "       [  2,   2,   4],\n",
       "       [184, 173, 152]], dtype=uint8)"
      ]
     },
     "execution_count": 19,
     "metadata": {},
     "output_type": "execute_result"
    }
   ],
   "source": [
    "#Uint Conversion\n",
    "center=np.uint8(center)\n",
    "center"
   ]
  },
  {
   "cell_type": "code",
   "execution_count": 21,
   "id": "e64b8abb",
   "metadata": {},
   "outputs": [
    {
     "data": {
      "text/plain": [
       "array([[[2, 2, 4],\n",
       "        [2, 2, 4],\n",
       "        [2, 2, 4],\n",
       "        ...,\n",
       "        [2, 2, 4],\n",
       "        [2, 2, 4],\n",
       "        [2, 2, 4]],\n",
       "\n",
       "       [[2, 2, 4],\n",
       "        [2, 2, 4],\n",
       "        [2, 2, 4],\n",
       "        ...,\n",
       "        [2, 2, 4],\n",
       "        [2, 2, 4],\n",
       "        [2, 2, 4]],\n",
       "\n",
       "       [[2, 2, 4],\n",
       "        [2, 2, 4],\n",
       "        [2, 2, 4],\n",
       "        ...,\n",
       "        [2, 2, 4],\n",
       "        [2, 2, 4],\n",
       "        [2, 2, 4]],\n",
       "\n",
       "       ...,\n",
       "\n",
       "       [[2, 2, 4],\n",
       "        [2, 2, 4],\n",
       "        [2, 2, 4],\n",
       "        ...,\n",
       "        [2, 2, 4],\n",
       "        [2, 2, 4],\n",
       "        [2, 2, 4]],\n",
       "\n",
       "       [[2, 2, 4],\n",
       "        [2, 2, 4],\n",
       "        [2, 2, 4],\n",
       "        ...,\n",
       "        [2, 2, 4],\n",
       "        [2, 2, 4],\n",
       "        [2, 2, 4]],\n",
       "\n",
       "       [[2, 2, 4],\n",
       "        [2, 2, 4],\n",
       "        [2, 2, 4],\n",
       "        ...,\n",
       "        [2, 2, 4],\n",
       "        [2, 2, 4],\n",
       "        [2, 2, 4]]], dtype=uint8)"
      ]
     },
     "execution_count": 21,
     "metadata": {},
     "output_type": "execute_result"
    }
   ],
   "source": [
    "#flattening and Reshape\n",
    "res=center[label.flatten()]\n",
    "res_img=res.reshape((imgrgb.shape))\n",
    "res_img"
   ]
  },
  {
   "cell_type": "code",
   "execution_count": 24,
   "id": "b116133c",
   "metadata": {},
   "outputs": [],
   "source": [
    "#Original image & Cluster image\n",
    "cv2.imshow('Original',img)\n",
    "cv2.imshow('Segmented',res_img)\n",
    "\n",
    "cv2.waitKey(0)\n",
    "cv2.destroyAllWindows()"
   ]
  },
  {
   "cell_type": "code",
   "execution_count": null,
   "id": "3eed2f06",
   "metadata": {},
   "outputs": [],
   "source": []
  }
 ],
 "metadata": {
  "kernelspec": {
   "display_name": "Python 3 (ipykernel)",
   "language": "python",
   "name": "python3"
  },
  "language_info": {
   "codemirror_mode": {
    "name": "ipython",
    "version": 3
   },
   "file_extension": ".py",
   "mimetype": "text/x-python",
   "name": "python",
   "nbconvert_exporter": "python",
   "pygments_lexer": "ipython3",
   "version": "3.9.13"
  }
 },
 "nbformat": 4,
 "nbformat_minor": 5
}
