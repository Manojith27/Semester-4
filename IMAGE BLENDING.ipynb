{
 "cells": [
  {
   "cell_type": "code",
   "execution_count": 1,
   "id": "fdb0abea",
   "metadata": {},
   "outputs": [],
   "source": [
    "import cv2\n",
    "import numpy"
   ]
  },
  {
   "cell_type": "code",
   "execution_count": null,
   "id": "b9732650",
   "metadata": {},
   "outputs": [],
   "source": [
    "import cv2\n",
    "import numpy"
   ]
  },
  {
   "cell_type": "code",
   "execution_count": 6,
   "id": "db9d1746",
   "metadata": {},
   "outputs": [],
   "source": [
    "im1=cv2.imread(\"C:/Users/SN149/Pictures/paint.png\")"
   ]
  },
  {
   "cell_type": "code",
   "execution_count": 8,
   "id": "7ea98c47",
   "metadata": {},
   "outputs": [
    {
     "data": {
      "text/plain": [
       "array([[[0, 0, 0],\n",
       "        [0, 0, 0],\n",
       "        [0, 0, 0],\n",
       "        ...,\n",
       "        [0, 0, 0],\n",
       "        [0, 0, 0],\n",
       "        [0, 0, 0]],\n",
       "\n",
       "       [[0, 0, 0],\n",
       "        [0, 0, 0],\n",
       "        [0, 0, 0],\n",
       "        ...,\n",
       "        [0, 0, 0],\n",
       "        [0, 0, 0],\n",
       "        [0, 0, 0]],\n",
       "\n",
       "       [[0, 0, 0],\n",
       "        [0, 0, 0],\n",
       "        [0, 0, 0],\n",
       "        ...,\n",
       "        [0, 0, 0],\n",
       "        [0, 0, 0],\n",
       "        [0, 0, 0]],\n",
       "\n",
       "       ...,\n",
       "\n",
       "       [[0, 0, 0],\n",
       "        [0, 0, 0],\n",
       "        [0, 0, 0],\n",
       "        ...,\n",
       "        [0, 0, 0],\n",
       "        [0, 0, 0],\n",
       "        [0, 0, 0]],\n",
       "\n",
       "       [[0, 0, 0],\n",
       "        [0, 0, 0],\n",
       "        [0, 0, 0],\n",
       "        ...,\n",
       "        [0, 0, 0],\n",
       "        [0, 0, 0],\n",
       "        [0, 0, 0]],\n",
       "\n",
       "       [[0, 0, 0],\n",
       "        [0, 0, 0],\n",
       "        [0, 0, 0],\n",
       "        ...,\n",
       "        [0, 0, 0],\n",
       "        [0, 0, 0],\n",
       "        [0, 0, 0]]], dtype=uint8)"
      ]
     },
     "execution_count": 8,
     "metadata": {},
     "output_type": "execute_result"
    }
   ],
   "source": [
    "im1"
   ]
  },
  {
   "cell_type": "code",
   "execution_count": 7,
   "id": "68795ebe",
   "metadata": {},
   "outputs": [],
   "source": [
    "im2=cv2.imread(\"C:/Users/SN149/Pictures/red.png\")"
   ]
  },
  {
   "cell_type": "code",
   "execution_count": 9,
   "id": "1d1f4ddd",
   "metadata": {},
   "outputs": [
    {
     "data": {
      "text/plain": [
       "array([[[ 36,  28, 237],\n",
       "        [ 36,  28, 237],\n",
       "        [ 36,  28, 237],\n",
       "        ...,\n",
       "        [ 36,  28, 237],\n",
       "        [ 36,  28, 237],\n",
       "        [ 36,  28, 237]],\n",
       "\n",
       "       [[ 36,  28, 237],\n",
       "        [ 36,  28, 237],\n",
       "        [ 36,  28, 237],\n",
       "        ...,\n",
       "        [ 36,  28, 237],\n",
       "        [ 36,  28, 237],\n",
       "        [ 36,  28, 237]],\n",
       "\n",
       "       [[ 36,  28, 237],\n",
       "        [ 36,  28, 237],\n",
       "        [ 36,  28, 237],\n",
       "        ...,\n",
       "        [ 36,  28, 237],\n",
       "        [ 36,  28, 237],\n",
       "        [ 36,  28, 237]],\n",
       "\n",
       "       ...,\n",
       "\n",
       "       [[ 36,  28, 237],\n",
       "        [ 36,  28, 237],\n",
       "        [ 36,  28, 237],\n",
       "        ...,\n",
       "        [ 36,  28, 237],\n",
       "        [ 36,  28, 237],\n",
       "        [ 36,  28, 237]],\n",
       "\n",
       "       [[ 36,  28, 237],\n",
       "        [ 36,  28, 237],\n",
       "        [ 36,  28, 237],\n",
       "        ...,\n",
       "        [ 36,  28, 237],\n",
       "        [ 36,  28, 237],\n",
       "        [ 36,  28, 237]],\n",
       "\n",
       "       [[ 36,  28, 237],\n",
       "        [ 36,  28, 237],\n",
       "        [ 36,  28, 237],\n",
       "        ...,\n",
       "        [ 36,  28, 237],\n",
       "        [ 36,  28, 237],\n",
       "        [ 36,  28, 237]]], dtype=uint8)"
      ]
     },
     "execution_count": 9,
     "metadata": {},
     "output_type": "execute_result"
    }
   ],
   "source": [
    "im2"
   ]
  },
  {
   "cell_type": "code",
   "execution_count": 13,
   "id": "d16c78ba",
   "metadata": {},
   "outputs": [],
   "source": [
    "cv2.imshow(\"img1\",im1)\n",
    "cv2.imshow(\"img2\",im2)\n",
    "cv2.waitKey(0)\n",
    "cv2.destroyAllWindows()"
   ]
  },
  {
   "cell_type": "code",
   "execution_count": 14,
   "id": "53723af1",
   "metadata": {},
   "outputs": [],
   "source": [
    "#Blending\n",
    "im_blend=cv2.addWeighted(im1,0.5,im2,0.3,0)"
   ]
  },
  {
   "cell_type": "code",
   "execution_count": 15,
   "id": "cc476356",
   "metadata": {},
   "outputs": [],
   "source": [
    "cv2.imshow(\"im1\",im1)\n",
    "cv2.waitKey(0)\n",
    "cv2.imshow(\"im2\",im2)\n",
    "cv2.waitKey(0)\n",
    "cv2.imshow(\"Blended\",im_blend)\n",
    "cv2.waitKey(0)\n",
    "cv2.destroyAllWindows()"
   ]
  },
  {
   "cell_type": "code",
   "execution_count": null,
   "id": "aa24c224",
   "metadata": {},
   "outputs": [],
   "source": []
  }
 ],
 "metadata": {
  "kernelspec": {
   "display_name": "Python 3 (ipykernel)",
   "language": "python",
   "name": "python3"
  },
  "language_info": {
   "codemirror_mode": {
    "name": "ipython",
    "version": 3
   },
   "file_extension": ".py",
   "mimetype": "text/x-python",
   "name": "python",
   "nbconvert_exporter": "python",
   "pygments_lexer": "ipython3",
   "version": "3.9.12"
  }
 },
 "nbformat": 4,
 "nbformat_minor": 5
}
