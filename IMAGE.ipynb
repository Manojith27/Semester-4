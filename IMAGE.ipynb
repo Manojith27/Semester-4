{
 "cells": [
  {
   "cell_type": "code",
   "execution_count": 1,
   "id": "75d1aacb",
   "metadata": {},
   "outputs": [],
   "source": [
    "import cv2"
   ]
  },
  {
   "cell_type": "code",
   "execution_count": 2,
   "id": "e1be3f4c",
   "metadata": {},
   "outputs": [],
   "source": [
    "import numpy as sn"
   ]
  },
  {
   "cell_type": "code",
   "execution_count": 9,
   "id": "d5b78cef",
   "metadata": {},
   "outputs": [],
   "source": [
    "im1=cv2.imread(\"C:/Users/SN149/Pictures/OIP.jfif\")"
   ]
  },
  {
   "cell_type": "code",
   "execution_count": 10,
   "id": "612e612b",
   "metadata": {},
   "outputs": [
    {
     "data": {
      "text/plain": [
       "array([[[167, 132,  92],\n",
       "        [171, 136,  96],\n",
       "        [174, 139,  99],\n",
       "        ...,\n",
       "        [203, 133,  66],\n",
       "        [205, 135,  68],\n",
       "        [205, 135,  68]],\n",
       "\n",
       "       [[167, 132,  92],\n",
       "        [169, 134,  94],\n",
       "        [171, 136,  96],\n",
       "        ...,\n",
       "        [202, 132,  65],\n",
       "        [205, 135,  68],\n",
       "        [205, 135,  68]],\n",
       "\n",
       "       [[168, 133,  90],\n",
       "        [166, 131,  88],\n",
       "        [166, 130,  90],\n",
       "        ...,\n",
       "        [201, 132,  63],\n",
       "        [205, 136,  67],\n",
       "        [205, 136,  67]],\n",
       "\n",
       "       ...,\n",
       "\n",
       "       [[ 23,  52,  19],\n",
       "        [ 15,  44,  11],\n",
       "        [ 16,  46,  11],\n",
       "        ...,\n",
       "        [ 24,  57,  20],\n",
       "        [ 16,  47,  10],\n",
       "        [ 25,  56,  19]],\n",
       "\n",
       "       [[ 47,  76,  43],\n",
       "        [ 30,  59,  26],\n",
       "        [ 22,  52,  17],\n",
       "        ...,\n",
       "        [ 25,  58,  21],\n",
       "        [ 38,  68,  33],\n",
       "        [ 51,  81,  46]],\n",
       "\n",
       "       [[ 57,  86,  53],\n",
       "        [ 33,  62,  29],\n",
       "        [ 18,  48,  13],\n",
       "        ...,\n",
       "        [ 20,  53,  16],\n",
       "        [ 35,  65,  30],\n",
       "        [ 51,  81,  46]]], dtype=uint8)"
      ]
     },
     "execution_count": 10,
     "metadata": {},
     "output_type": "execute_result"
    }
   ],
   "source": [
    "im1"
   ]
  },
  {
   "cell_type": "code",
   "execution_count": 16,
   "id": "4ae7731d",
   "metadata": {},
   "outputs": [],
   "source": [
    "cv2.imshow(\"mano\",im1)\n",
    "cv2.waitKey(5000)\n",
    "cv2.destroyAllWindows()"
   ]
  },
  {
   "cell_type": "code",
   "execution_count": null,
   "id": "e32f4de3",
   "metadata": {},
   "outputs": [],
   "source": []
  }
 ],
 "metadata": {
  "kernelspec": {
   "display_name": "Python 3 (ipykernel)",
   "language": "python",
   "name": "python3"
  },
  "language_info": {
   "codemirror_mode": {
    "name": "ipython",
    "version": 3
   },
   "file_extension": ".py",
   "mimetype": "text/x-python",
   "name": "python",
   "nbconvert_exporter": "python",
   "pygments_lexer": "ipython3",
   "version": "3.9.12"
  }
 },
 "nbformat": 4,
 "nbformat_minor": 5
}
