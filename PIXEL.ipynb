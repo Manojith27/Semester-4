{
 "cells": [
  {
   "cell_type": "code",
   "execution_count": 1,
   "id": "f1c75a98",
   "metadata": {},
   "outputs": [],
   "source": [
    "import cv2"
   ]
  },
  {
   "cell_type": "code",
   "execution_count": 2,
   "id": "86fa020f",
   "metadata": {},
   "outputs": [],
   "source": [
    "import numpy as sn"
   ]
  },
  {
   "cell_type": "code",
   "execution_count": 3,
   "id": "97dd0c44",
   "metadata": {},
   "outputs": [],
   "source": [
    "im2=cv2.imread(\"C:/Users/SN149/Pictures/OIP.jfif\",1)"
   ]
  },
  {
   "cell_type": "code",
   "execution_count": 4,
   "id": "f841ce7c",
   "metadata": {
    "scrolled": true
   },
   "outputs": [
    {
     "data": {
      "text/plain": [
       "array([[[167, 132,  92],\n",
       "        [171, 136,  96],\n",
       "        [174, 139,  99],\n",
       "        ...,\n",
       "        [203, 133,  66],\n",
       "        [205, 135,  68],\n",
       "        [205, 135,  68]],\n",
       "\n",
       "       [[167, 132,  92],\n",
       "        [169, 134,  94],\n",
       "        [171, 136,  96],\n",
       "        ...,\n",
       "        [202, 132,  65],\n",
       "        [205, 135,  68],\n",
       "        [205, 135,  68]],\n",
       "\n",
       "       [[168, 133,  90],\n",
       "        [166, 131,  88],\n",
       "        [166, 130,  90],\n",
       "        ...,\n",
       "        [201, 132,  63],\n",
       "        [205, 136,  67],\n",
       "        [205, 136,  67]],\n",
       "\n",
       "       ...,\n",
       "\n",
       "       [[ 23,  52,  19],\n",
       "        [ 15,  44,  11],\n",
       "        [ 16,  46,  11],\n",
       "        ...,\n",
       "        [ 24,  57,  20],\n",
       "        [ 16,  47,  10],\n",
       "        [ 25,  56,  19]],\n",
       "\n",
       "       [[ 47,  76,  43],\n",
       "        [ 30,  59,  26],\n",
       "        [ 22,  52,  17],\n",
       "        ...,\n",
       "        [ 25,  58,  21],\n",
       "        [ 38,  68,  33],\n",
       "        [ 51,  81,  46]],\n",
       "\n",
       "       [[ 57,  86,  53],\n",
       "        [ 33,  62,  29],\n",
       "        [ 18,  48,  13],\n",
       "        ...,\n",
       "        [ 20,  53,  16],\n",
       "        [ 35,  65,  30],\n",
       "        [ 51,  81,  46]]], dtype=uint8)"
      ]
     },
     "execution_count": 4,
     "metadata": {},
     "output_type": "execute_result"
    }
   ],
   "source": [
    "im2"
   ]
  },
  {
   "cell_type": "code",
   "execution_count": 5,
   "id": "36d555a9",
   "metadata": {},
   "outputs": [],
   "source": [
    "shp=im2.shape"
   ]
  },
  {
   "cell_type": "code",
   "execution_count": 6,
   "id": "e8d0474b",
   "metadata": {},
   "outputs": [
    {
     "name": "stdout",
     "output_type": "stream",
     "text": [
      "(264, 474, 3)\n"
     ]
    }
   ],
   "source": [
    "print(shp)"
   ]
  },
  {
   "cell_type": "markdown",
   "id": "d76d58af",
   "metadata": {},
   "source": [
    "# DISPLAY THE IMAGE"
   ]
  },
  {
   "cell_type": "code",
   "execution_count": 7,
   "id": "3173788b",
   "metadata": {},
   "outputs": [],
   "source": [
    "cv2.imshow(\"mano\",im2)\n",
    "cv2.waitKey(3)\n",
    "cv2.destroyAllWindows()"
   ]
  },
  {
   "cell_type": "code",
   "execution_count": 8,
   "id": "478a8d3a",
   "metadata": {},
   "outputs": [],
   "source": [
    "mano=im2.shape"
   ]
  },
  {
   "cell_type": "code",
   "execution_count": 9,
   "id": "09659a72",
   "metadata": {},
   "outputs": [
    {
     "name": "stdout",
     "output_type": "stream",
     "text": [
      "(264, 474, 3)\n"
     ]
    }
   ],
   "source": [
    "print(im2.shape)"
   ]
  },
  {
   "cell_type": "code",
   "execution_count": 10,
   "id": "6f67ddc8",
   "metadata": {},
   "outputs": [
    {
     "name": "stdout",
     "output_type": "stream",
     "text": [
      "375408\n"
     ]
    }
   ],
   "source": [
    "print(im2.size)"
   ]
  },
  {
   "cell_type": "code",
   "execution_count": 11,
   "id": "2b054617",
   "metadata": {},
   "outputs": [],
   "source": [
    "im2_resized=cv2.resize(im2,(250,250))"
   ]
  },
  {
   "cell_type": "code",
   "execution_count": 12,
   "id": "939c8df9",
   "metadata": {},
   "outputs": [
    {
     "name": "stdout",
     "output_type": "stream",
     "text": [
      "(250, 250, 3)\n"
     ]
    }
   ],
   "source": [
    "print(im2_resized.shape)"
   ]
  },
  {
   "cell_type": "code",
   "execution_count": 13,
   "id": "c1e53e94",
   "metadata": {},
   "outputs": [],
   "source": [
    "cv2.imshow(\"im2\",mano)\n",
    "cv2.imshow(\"im3\",im2_resized)\n",
    "cv2.waitKey(0)\n",
    "cv2.destroyAllWindows()"
   ]
  },
  {
   "cell_type": "markdown",
   "id": "eed4b1e9",
   "metadata": {},
   "source": [
    "# COLOR SPACE CHANGING"
   ]
  },
  {
   "cell_type": "code",
   "execution_count": 17,
   "id": "918f916f",
   "metadata": {},
   "outputs": [],
   "source": [
    "colors_av1=[i for i in dir(cv2)if i.startswith(\"color_BGR\")]"
   ]
  },
  {
   "cell_type": "code",
   "execution_count": 18,
   "id": "91e97132",
   "metadata": {},
   "outputs": [
    {
     "name": "stdout",
     "output_type": "stream",
     "text": [
      "colors_av1\n"
     ]
    }
   ],
   "source": [
    "print(\"colors_av1\")"
   ]
  },
  {
   "cell_type": "code",
   "execution_count": 20,
   "id": "ca5bb957",
   "metadata": {},
   "outputs": [],
   "source": [
    "im3=cv2.cvtColor(im2,cv2.COLOR_BGR2HSV)"
   ]
  },
  {
   "cell_type": "code",
   "execution_count": 22,
   "id": "6b9d68af",
   "metadata": {},
   "outputs": [
    {
     "data": {
      "text/plain": [
       "<function destroyAllWindows>"
      ]
     },
     "execution_count": 22,
     "metadata": {},
     "output_type": "execute_result"
    }
   ],
   "source": [
    "cv2.imshow(\"img1\",im3)\n",
    "cv2.imshow(\"img2\",im3)\n",
    "cv2.waitKey(0)\n",
    "cv2.destroyAllWindows"
   ]
  },
  {
   "cell_type": "code",
   "execution_count": null,
   "id": "ed6eb365",
   "metadata": {},
   "outputs": [],
   "source": []
  }
 ],
 "metadata": {
  "kernelspec": {
   "display_name": "Python 3 (ipykernel)",
   "language": "python",
   "name": "python3"
  },
  "language_info": {
   "codemirror_mode": {
    "name": "ipython",
    "version": 3
   },
   "file_extension": ".py",
   "mimetype": "text/x-python",
   "name": "python",
   "nbconvert_exporter": "python",
   "pygments_lexer": "ipython3",
   "version": "3.9.12"
  }
 },
 "nbformat": 4,
 "nbformat_minor": 5
}
